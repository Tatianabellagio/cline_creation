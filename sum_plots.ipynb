{
 "cells": [
  {
   "cell_type": "code",
   "execution_count": 1,
   "id": "f2816c85-5df6-44ed-bf92-75d691d28e68",
   "metadata": {},
   "outputs": [
    {
     "name": "stderr",
     "output_type": "stream",
     "text": [
      "/tmp/ipykernel_798159/188622335.py:4: DeprecationWarning: \n",
      "Pyarrow will become a required dependency of pandas in the next major release of pandas (pandas 3.0),\n",
      "(to allow more performant data types, such as the Arrow string type, and better interoperability with other libraries)\n",
      "but was not found to be installed on your system.\n",
      "If this would cause problems for you,\n",
      "please provide us feedback at https://github.com/pandas-dev/pandas/issues/54466\n",
      "        \n",
      "  import pandas as pd\n"
     ]
    }
   ],
   "source": [
    "from PIL import Image, ImageDraw, ImageFont\n",
    "import os\n",
    "\n",
    "import pandas as pd"
   ]
  },
  {
   "cell_type": "code",
   "execution_count": 3,
   "id": "5b302584-5417-4f41-b41e-6502d3e450d2",
   "metadata": {},
   "outputs": [],
   "source": [
    "dict_files = [i for i in os.listdir('results/') if 'run' in i]\n",
    "\n",
    "all_params = {}\n",
    "for i in dict_files:\n",
    "    runid = i.replace('run_', '').replace('.txt', '')\n",
    "    params = pd.read_csv(f'results/{i}',header=None)[0].values[0].split('_')\n",
    "    all_params[runid] = params"
   ]
  },
  {
   "cell_type": "code",
   "execution_count": 7,
   "id": "bbec3222-13c7-4ede-8665-279efc62f5b4",
   "metadata": {},
   "outputs": [],
   "source": [
    "# Set the directory where your images are located\n",
    "image_dir = '/home/tbellagio/simulations/cline_creation/results/plots_af/'\n",
    "output_image = 'combined_image.png'\n",
    "\n",
    "# List all PNG files in the directory\n",
    "image_files = [f for f in os.listdir(image_dir) if f.endswith('.png')]\n",
    "image_files.sort()  # Sort files to maintain order"
   ]
  },
  {
   "cell_type": "code",
   "execution_count": 8,
   "id": "a5b142b1-23f3-46dc-8bf9-4b36d4e2c68f",
   "metadata": {},
   "outputs": [],
   "source": [
    "#image_files = image_files[:3]"
   ]
  },
  {
   "cell_type": "code",
   "execution_count": null,
   "id": "b4289189-c232-43b6-aa01-e54acd319798",
   "metadata": {},
   "outputs": [],
   "source": [
    "final_sel_strength , migration_rate , last_gen"
   ]
  },
  {
   "cell_type": "code",
   "execution_count": 10,
   "id": "d38542e8-7f33-40f1-b962-d0b9617be9aa",
   "metadata": {},
   "outputs": [
    {
     "name": "stdout",
     "output_type": "stream",
     "text": [
      "Combined image saved as combined_image.png\n"
     ]
    }
   ],
   "source": [
    "# List all PNG files in the directory\n",
    "image_files = [f for f in os.listdir(image_dir) if f.endswith('.png')]\n",
    "image_files.sort()  # Sort files to maintain order\n",
    "\n",
    "# Load images and get their dimensions\n",
    "images = [Image.open(os.path.join(image_dir, img)) for img in image_files]\n",
    "widths, heights = zip(*(img.size for img in images))\n",
    "\n",
    "# Determine the width and height of the combined image\n",
    "total_width = max(widths)\n",
    "total_height = sum(heights) + 60 * len(images)  # Extra space for titles\n",
    "\n",
    "# Create a new blank image with the correct dimensions\n",
    "combined_image = Image.new('RGB', (total_width, total_height), (255, 255, 255))\n",
    "\n",
    "# Load a font\n",
    "try:\n",
    "    font = ImageFont.truetype(\"arial.ttf\", 100)\n",
    "except IOError:\n",
    "    font = ImageFont.load_default()\n",
    "\n",
    "draw = ImageDraw.Draw(combined_image)\n",
    "\n",
    "y_offset = 0\n",
    "for img_file, img in zip(image_files, images):\n",
    "    # Extract the unique ID from the filename\n",
    "    runid = img_file.split('runid')[-1].split('.')[0]\n",
    "    \n",
    "    # Get the parameters from the dictionary using the runid\n",
    "    params = all_params.get(runid, ['N/A', 'N/A', 'N/A'])\n",
    "    title = f\"final_sel_strength: {params[0]} , migration_rate: {params[1]}, last_gen: {params[2]}\"\n",
    "    \n",
    "    # Calculate the bounding box for the title\n",
    "    bbox = draw.textbbox((0, 0), title, font=font)\n",
    "    text_width, text_height = bbox[2] - bbox[0], bbox[3] - bbox[1]\n",
    "    \n",
    "    # Add the title above each image\n",
    "    draw.text(((total_width - text_width) / 2, y_offset), title, font=font, fill=(0, 0, 0))\n",
    "    y_offset += text_height + 5\n",
    "    \n",
    "    # Paste the image\n",
    "    combined_image.paste(img, (0, y_offset))\n",
    "    y_offset += img.size[1] + 15  # Move the y_offset for the next image\n",
    "\n",
    "# Save the combined image\n",
    "combined_image.save(output_image)\n",
    "print(f\"Combined image saved as {output_image}\")"
   ]
  },
  {
   "cell_type": "code",
   "execution_count": null,
   "id": "867870ab-2733-4e64-aa95-a7205699c611",
   "metadata": {},
   "outputs": [],
   "source": []
  }
 ],
 "metadata": {
  "kernelspec": {
   "display_name": "Python 3 (ipykernel)",
   "language": "python",
   "name": "python3"
  },
  "language_info": {
   "codemirror_mode": {
    "name": "ipython",
    "version": 3
   },
   "file_extension": ".py",
   "mimetype": "text/x-python",
   "name": "python",
   "nbconvert_exporter": "python",
   "pygments_lexer": "ipython3",
   "version": "3.11.4"
  }
 },
 "nbformat": 4,
 "nbformat_minor": 5
}
