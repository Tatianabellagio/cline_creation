{
 "cells": [
  {
   "cell_type": "code",
   "execution_count": 17,
   "id": "73a5ba27-1fbe-4c33-b9ed-3eece334dbfa",
   "metadata": {
    "scrolled": true
   },
   "outputs": [],
   "source": [
    "import allel\n",
    "import numpy as np\n",
    "\n",
    "import seaborn as sns"
   ]
  },
  {
   "cell_type": "code",
   "execution_count": 3,
   "id": "2275a25c-4e2e-496e-a8e3-4c8aa55863bc",
   "metadata": {},
   "outputs": [],
   "source": [
    "path = '/carnegie/nobackup/scratch/tbellagio/gea_grene-net/gwas/1001g/'"
   ]
  },
  {
   "cell_type": "code",
   "execution_count": 4,
   "id": "7bbc5a9a-c668-4c54-a004-497cc9344102",
   "metadata": {},
   "outputs": [],
   "source": [
    "vcf = allel.read_vcf(path + '1001g_grenet_climate.recode.vcf')"
   ]
  },
  {
   "cell_type": "code",
   "execution_count": 13,
   "id": "416ab3bc-2d0a-47ac-a024-1120605786c3",
   "metadata": {},
   "outputs": [],
   "source": [
    "pos = vcf['variants/POS']"
   ]
  },
  {
   "cell_type": "code",
   "execution_count": 6,
   "id": "d8721672-bf47-462c-a6f0-fb85c51e1527",
   "metadata": {},
   "outputs": [],
   "source": [
    "# Access genotypes (assuming diploid data)\n",
    "genotypes = allel.GenotypeArray(vcf['calldata/GT'])\n",
    "\n",
    "# Calculate allele counts\n",
    "ac = genotypes.count_alleles()"
   ]
  },
  {
   "cell_type": "code",
   "execution_count": 7,
   "id": "f31708d1-b203-4e35-8a66-b5707f7a144c",
   "metadata": {},
   "outputs": [],
   "source": [
    "mean_pairwise_difference = allel.mean_pairwise_difference(ac)"
   ]
  },
  {
   "cell_type": "code",
   "execution_count": 18,
   "id": "df93cea3-ec6d-413c-a32e-cf8cbc3ad6fc",
   "metadata": {},
   "outputs": [
    {
     "data": {
      "text/plain": [
       "<Axes: ylabel='Count'>"
      ]
     },
     "execution_count": 18,
     "metadata": {},
     "output_type": "execute_result"
    },
    {
     "data": {
      "image/png": "[encoded data removed]",
      "text/plain": [
       "<Figure size 640x480 with 1 Axes>"
      ]
     },
     "metadata": {},
     "output_type": "display_data"
    }
   ],
   "source": [
    "sns.histplot(mean_pairwise_difference)"
   ]
  },
  {
   "cell_type": "code",
   "execution_count": 10,
   "id": "e3c9e0c4-d5b6-4cb6-a21c-1c55f5ff5718",
   "metadata": {},
   "outputs": [],
   "source": [
    "total_mpd = np.sum(mean_pairwise_difference)"
   ]
  },
  {
   "cell_type": "code",
   "execution_count": 16,
   "id": "af719915-10ee-43a6-a293-667bce90e116",
   "metadata": {},
   "outputs": [
    {
     "data": {
      "text/plain": [
       "364566.4873659314"
      ]
     },
     "execution_count": 16,
     "metadata": {},
     "output_type": "execute_result"
    }
   ],
   "source": [
    "total_mpd"
   ]
  },
  {
   "cell_type": "code",
   "execution_count": 19,
   "id": "75997ff3-b591-4c89-98a9-b1a5d4f6082e",
   "metadata": {},
   "outputs": [
    {
     "data": {
      "text/plain": [
       "3235480"
      ]
     },
     "execution_count": 19,
     "metadata": {},
     "output_type": "execute_result"
    }
   ],
   "source": [
    "len(pos)"
   ]
  },
  {
   "cell_type": "code",
   "execution_count": 14,
   "id": "8ab8ab0f-8ddb-4ed4-a971-0c4297179a53",
   "metadata": {},
   "outputs": [],
   "source": [
    "genome_wide_pi = total_mpd / len(pos)"
   ]
  },
  {
   "cell_type": "code",
   "execution_count": 15,
   "id": "f3721b9f-1384-43c5-88ba-3e842271c462",
   "metadata": {},
   "outputs": [
    {
     "data": {
      "text/plain": [
       "0.11267771315722284"
      ]
     },
     "execution_count": 15,
     "metadata": {},
     "output_type": "execute_result"
    }
   ],
   "source": [
    "genome_wide_pi"
   ]
  },
  {
   "cell_type": "code",
   "execution_count": null,
   "id": "abee3330-e65e-4ccb-80a5-00f401f55493",
   "metadata": {},
   "outputs": [],
   "source": []
  }
 ],
 "metadata": {
  "kernelspec": {
   "display_name": "Python (pipeline_snakemake)",
   "language": "python",
   "name": "pipeline_snakemake"
  },
  "language_info": {
   "codemirror_mode": {
    "name": "ipython",
    "version": 3
   },
   "file_extension": ".py",
   "mimetype": "text/x-python",
   "name": "python",
   "nbconvert_exporter": "python",
   "pygments_lexer": "ipython3",
   "version": "3.9.16"
  }
 },
 "nbformat": 4,
 "nbformat_minor": 5
}
