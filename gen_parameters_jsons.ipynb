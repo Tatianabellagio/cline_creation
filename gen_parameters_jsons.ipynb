{
 "cells": [
  {
   "cell_type": "code",
   "execution_count": 2,
   "metadata": {},
   "outputs": [],
   "source": [
    "import itertools\n",
    "import json\n",
    "import os\n",
    "import hashlib\n",
    "import numpy as np"
   ]
  },
  {
   "cell_type": "code",
   "execution_count": 60,
   "metadata": {},
   "outputs": [
    {
     "name": "stdout",
     "output_type": "stream",
     "text": [
      "17\n"
     ]
    }
   ],
   "source": [
    "optima_vector = np.arange(-2, 2.25, 0.25)\n",
    "print(len(optima_vector))"
   ]
  },
  {
   "cell_type": "code",
   "execution_count": 61,
   "metadata": {},
   "outputs": [],
   "source": [
    "\n",
    "# Define the parameter space\n",
    "parameter_space_full = {\n",
    "    \"causal_loci\": [10, 3],\n",
    "    \"repr_scheme\": ['selfing', 'outcrossing'],\n",
    "    \"mutrate\": [1e-6],\n",
    "    \"recomb_rate\": [3e-6],\n",
    "    \"h2\" : [1],\n",
    "    \"capacity_charge\": [500],\n",
    "    \"initial_pop_size\": [1000],\n",
    "    \"optima_vector\": [optima_vector],\n",
    "    \"subpop_number\": [17],\n",
    "    \"migration_rate\": [0.01],\n",
    "    \"BURNIN_1\" : [0],\n",
    "    \"BURNIN_2\" : [50],\n",
    "    \"last_gen\" : [50],\n",
    "    \"initial_sel_strength\": [10],\n",
    "    \"final_sel_strength\": [0.5],\n",
    "    \"initial_ne\" : [500],\n",
    "\n",
    "    \"common_garden_number\": [17],\n",
    "    \"common_garden_migrants\": [10],\n",
    "    \"optima_CG\": [optima_vector],\n",
    "    \"sel_strength_CG\": [0.5],\n",
    "    \"last_gen_a_cg\": [103],\n",
    "    \"COMMON_GARDEN_CYCLE\": [100]\n",
    "}"
   ]
  },
  {
   "cell_type": "code",
   "execution_count": 66,
   "metadata": {},
   "outputs": [],
   "source": [
    "# Define the parameter space\n",
    "parameter_space = {\n",
    "    \"causal_loci\": [10],\n",
    "    \"repr_scheme\": ['selfing'],\n",
    "    \"mutrate\": [1e-6],\n",
    "    \"recomb_rate\": [3e-6],\n",
    "    \"h2\" : [1],\n",
    "    \"capacity_charge\": [500],\n",
    "    \"initial_pop_size\": [1000],\n",
    "    \"subpop_number\": [17],\n",
    "    \"migration_rate\": [0.01],\n",
    "    \"BURNIN_1\" : [0],\n",
    "    \"BURNIN_2\" : [50],\n",
    "    \"last_gen\" : [50],\n",
    "    \"initial_sel_strength\": [10],\n",
    "    \"final_sel_strength\": [0.5],\n",
    "    \"initial_ne\" : [500]\n",
    "}"
   ]
  },
  {
   "cell_type": "code",
   "execution_count": 67,
   "metadata": {},
   "outputs": [
    {
     "name": "stdout",
     "output_type": "stream",
     "text": [
      "Generated parameters/78ea6d6b.json\n"
     ]
    }
   ],
   "source": [
    "# Function to generate a hash for a given parameter set\n",
    "def get_hash(params):\n",
    "    params_str = \"_\".join(f\"{k}={v}\" for k, v in sorted(params.items()))\n",
    "    return hashlib.md5(params_str.encode()).hexdigest()[:8]\n",
    "\n",
    "# Function to generate all combinations of the parameter space\n",
    "def generate_combinations(parameter_space):\n",
    "    keys = parameter_space.keys()\n",
    "    values = (parameter_space[key] for key in keys)\n",
    "    for combination in itertools.product(*values):\n",
    "        yield dict(zip(keys, combination))\n",
    "\n",
    "# Directory to store the JSON files\n",
    "output_dir = \"parameters/\"\n",
    "os.makedirs(output_dir, exist_ok=True)\n",
    "\n",
    "# Generate JSON files for all combinations\n",
    "for params in generate_combinations(parameter_space):\n",
    "    hash_val = get_hash(params)\n",
    "    with open(f\"{output_dir}{hash_val}.json\", 'w') as f:\n",
    "        json.dump(params, f, indent=4)\n",
    "    print(f\"Generated {output_dir}{hash_val}.json\")\n",
    "\n"
   ]
  },
  {
   "cell_type": "code",
   "execution_count": 3,
   "metadata": {},
   "outputs": [],
   "source": [
    "parameters_dir = 'parameters/'\n",
    "# Get all filenames in the parameters directory\n",
    "filenames = os.listdir(parameters_dir)\n",
    "# Extract hashes from filenames (assuming format: parameters_{hash}.csv)\n",
    "hashes = [filename.replace('.json', '') for filename in filenames if filename.endswith(\".json\")]\n",
    "output_file = \"all_hashes.txt\"\n",
    "\n",
    "# Write the hashes to the output file\n",
    "with open(output_file, 'w') as f:\n",
    "    for hash in hashes:\n",
    "        f.write(hash + \"\\n\")"
   ]
  },
  {
   "cell_type": "code",
   "execution_count": null,
   "metadata": {},
   "outputs": [],
   "source": [
    "\n"
   ]
  },
  {
   "cell_type": "code",
   "execution_count": 65,
   "metadata": {},
   "outputs": [
    {
     "data": {
      "text/plain": [
       "['a389d997.json', '7f4623b4.json', '78ea6d6b.json']"
      ]
     },
     "execution_count": 65,
     "metadata": {},
     "output_type": "execute_result"
    }
   ],
   "source": [
    "filenames"
   ]
  },
  {
   "cell_type": "code",
   "execution_count": 40,
   "metadata": {},
   "outputs": [],
   "source": [
    "\n"
   ]
  },
  {
   "cell_type": "code",
   "execution_count": 41,
   "metadata": {},
   "outputs": [
    {
     "data": {
      "text/plain": [
       "['724b0996']"
      ]
     },
     "execution_count": 41,
     "metadata": {},
     "output_type": "execute_result"
    }
   ],
   "source": [
    "hashes"
   ]
  },
  {
   "cell_type": "code",
   "execution_count": 42,
   "metadata": {},
   "outputs": [],
   "source": []
  },
  {
   "cell_type": "code",
   "execution_count": 43,
   "metadata": {},
   "outputs": [],
   "source": []
  },
  {
   "cell_type": "code",
   "execution_count": null,
   "metadata": {},
   "outputs": [],
   "source": []
  }
 ],
 "metadata": {
  "kernelspec": {
   "display_name": "simulations",
   "language": "python",
   "name": "python3"
  },
  "language_info": {
   "codemirror_mode": {
    "name": "ipython",
    "version": 3
   },
   "file_extension": ".py",
   "mimetype": "text/x-python",
   "name": "python",
   "nbconvert_exporter": "python",
   "pygments_lexer": "ipython3",
   "version": "3.11.5"
  },
  "orig_nbformat": 4
 },
 "nbformat": 4,
 "nbformat_minor": 2
}
