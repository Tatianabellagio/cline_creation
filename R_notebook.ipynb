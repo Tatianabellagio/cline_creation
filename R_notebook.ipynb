{
 "cells": [
  {
   "cell_type": "code",
   "execution_count": 2,
   "id": "a5acc292-7468-49bc-8303-65352662bdeb",
   "metadata": {},
   "outputs": [],
   "source": [
    ".libPaths(\"/home/tbellagio/miniforge3/envs/r-environment/lib/R/library\")"
   ]
  },
  {
   "cell_type": "code",
   "execution_count": 3,
   "id": "a2f80ff0-4507-4272-93f9-dd2978132b16",
   "metadata": {},
   "outputs": [
    {
     "name": "stderr",
     "output_type": "stream",
     "text": [
      "Warning message:\n",
      "“package ‘lfmm’ was built under R version 4.3.2”\n",
      "\n",
      "   *****       ***   vcfR   ***       *****\n",
      "   This is vcfR 1.15.0 \n",
      "     browseVignettes('vcfR') # Documentation\n",
      "     citation('vcfR') # Citation\n",
      "   *****       *****      *****       *****\n",
      "\n",
      "\n"
     ]
    }
   ],
   "source": [
    "library(lfmm)\n",
    "library(vcfR)"
   ]
  },
  {
   "cell_type": "code",
   "execution_count": 24,
   "id": "b7e29c40-ea79-4ec8-ac0d-c43bb8af7a17",
   "metadata": {},
   "outputs": [
    {
     "name": "stderr",
     "output_type": "stream",
     "text": [
      "Warning message:\n",
      "“package ‘OutFLANK’ was built under R version 4.3.3”\n",
      "Loading required package: qvalue\n",
      "\n",
      "Warning message:\n",
      "“package ‘qvalue’ was built under R version 4.3.2”\n"
     ]
    }
   ],
   "source": [
    "library(OutFLANK)"
   ]
  },
  {
   "cell_type": "code",
   "execution_count": null,
   "id": "055e4d2d-b99f-493f-9ecc-d3e4486725a2",
   "metadata": {},
   "outputs": [],
   "source": []
  },
  {
   "cell_type": "code",
   "execution_count": 10,
   "id": "152e50f4-0fc1-4d80-abde-7ca8f6bb61cd",
   "metadata": {},
   "outputs": [],
   "source": [
    "runid = '793549'"
   ]
  },
  {
   "cell_type": "code",
   "execution_count": 4,
   "id": "6b040837-ff8f-4746-93aa-077712f1138e",
   "metadata": {},
   "outputs": [],
   "source": [
    "delta_p_file <- paste0(\"lfmm/allele_counts/all_alt_allele_counts_runid_\", runid, \".csv\")\n",
    "allele_freq <- read.csv(delta_p_file, sep = ',', header = TRUE, check.names = FALSE)\n",
    "colnames(allele_freq) <- NULL\n",
    "allele_freq <- t(as.matrix(allele_freq))"
   ]
  },
  {
   "cell_type": "code",
   "execution_count": 5,
   "id": "26cf25d0-8fbf-46e1-b2ba-bf5af32719d3",
   "metadata": {},
   "outputs": [
    {
     "data": {
      "text/html": [
       "<style>\n",
       ".list-inline {list-style: none; margin:0; padding: 0}\n",
       ".list-inline>li {display: inline-block}\n",
       ".list-inline>li:not(:last-child)::after {content: \"\\00b7\"; padding: 0 .5ex}\n",
       "</style>\n",
       "<ol class=list-inline><li>17</li><li>5535</li></ol>\n"
      ],
      "text/latex": [
       "\\begin{enumerate*}\n",
       "\\item 17\n",
       "\\item 5535\n",
       "\\end{enumerate*}\n"
      ],
      "text/markdown": [
       "1. 17\n",
       "2. 5535\n",
       "\n",
       "\n"
      ],
      "text/plain": [
       "[1]   17 5535"
      ]
     },
     "metadata": {},
     "output_type": "display_data"
    }
   ],
   "source": [
    "dim(allele_freq)"
   ]
  },
  {
   "cell_type": "code",
   "execution_count": 6,
   "id": "d97db759-ec63-4065-8d8f-bbd09d5ac4c8",
   "metadata": {},
   "outputs": [],
   "source": [
    "pc <- prcomp(allele_freq)"
   ]
  },
  {
   "cell_type": "code",
   "execution_count": 7,
   "id": "3b97283f-164e-4223-a436-1aea633395f5",
   "metadata": {},
   "outputs": [
    {
     "data": {
      "text/html": [
       "<style>\n",
       ".list-inline {list-style: none; margin:0; padding: 0}\n",
       ".list-inline>li {display: inline-block}\n",
       ".list-inline>li:not(:last-child)::after {content: \"\\00b7\"; padding: 0 .5ex}\n",
       "</style>\n",
       "<ol class=list-inline><li>2509.75816602964</li><li>2324.13665062221</li><li>2236.8410790407</li><li>2083.62592289464</li><li>1900.95005975637</li><li>1879.32358325753</li><li>1645.23137928754</li><li>1636.80292112868</li><li>1534.83066336839</li><li>1322.86129659484</li><li>1290.8412621912</li><li>1209.46488309222</li><li>1174.15663431463</li><li>1053.2470474257</li><li>1002.73608766328</li><li>923.502621562013</li><li>1.66502597130538e-12</li><li>&lt;NA&gt;</li><li>&lt;NA&gt;</li><li>&lt;NA&gt;</li></ol>\n"
      ],
      "text/latex": [
       "\\begin{enumerate*}\n",
       "\\item 2509.75816602964\n",
       "\\item 2324.13665062221\n",
       "\\item 2236.8410790407\n",
       "\\item 2083.62592289464\n",
       "\\item 1900.95005975637\n",
       "\\item 1879.32358325753\n",
       "\\item 1645.23137928754\n",
       "\\item 1636.80292112868\n",
       "\\item 1534.83066336839\n",
       "\\item 1322.86129659484\n",
       "\\item 1290.8412621912\n",
       "\\item 1209.46488309222\n",
       "\\item 1174.15663431463\n",
       "\\item 1053.2470474257\n",
       "\\item 1002.73608766328\n",
       "\\item 923.502621562013\n",
       "\\item 1.66502597130538e-12\n",
       "\\item <NA>\n",
       "\\item <NA>\n",
       "\\item <NA>\n",
       "\\end{enumerate*}\n"
      ],
      "text/markdown": [
       "1. 2509.75816602964\n",
       "2. 2324.13665062221\n",
       "3. 2236.8410790407\n",
       "4. 2083.62592289464\n",
       "5. 1900.95005975637\n",
       "6. 1879.32358325753\n",
       "7. 1645.23137928754\n",
       "8. 1636.80292112868\n",
       "9. 1534.83066336839\n",
       "10. 1322.86129659484\n",
       "11. 1290.8412621912\n",
       "12. 1209.46488309222\n",
       "13. 1174.15663431463\n",
       "14. 1053.2470474257\n",
       "15. 1002.73608766328\n",
       "16. 923.502621562013\n",
       "17. 1.66502597130538e-12\n",
       "18. &lt;NA&gt;\n",
       "19. &lt;NA&gt;\n",
       "20. &lt;NA&gt;\n",
       "\n",
       "\n"
      ],
      "text/plain": [
       " [1] 2.509758e+03 2.324137e+03 2.236841e+03 2.083626e+03 1.900950e+03\n",
       " [6] 1.879324e+03 1.645231e+03 1.636803e+03 1.534831e+03 1.322861e+03\n",
       "[11] 1.290841e+03 1.209465e+03 1.174157e+03 1.053247e+03 1.002736e+03\n",
       "[16] 9.235026e+02 1.665026e-12           NA           NA           NA"
      ]
     },
     "metadata": {},
     "output_type": "display_data"
    }
   ],
   "source": [
    "pc$sdev[1:20]"
   ]
  },
  {
   "cell_type": "code",
   "execution_count": 8,
   "id": "bc6822a3-58ee-43cf-a00c-64425cff40ce",
   "metadata": {
    "scrolled": true
   },
   "outputs": [
    {
     "data": {
      "image/png": "[encoded data removed]",
      "text/plain": [
       "plot without title"
      ]
     },
     "metadata": {
      "image/png": {
       "height": 420,
       "width": 420
      }
     },
     "output_type": "display_data"
    }
   ],
   "source": [
    "plot(pc$sdev[1:30]^2, xlab = 'PC', ylab = \"Variance explained\")\n",
    "#points(6,pc$sdev[6]^2, type = \"h\", lwd = 3, col = \"blue\")"
   ]
  },
  {
   "cell_type": "code",
   "execution_count": 12,
   "id": "ece9cc92-cad9-4bd2-9e30-c1a60430b4ac",
   "metadata": {},
   "outputs": [
    {
     "data": {
      "text/html": [
       "'793549'"
      ],
      "text/latex": [
       "'793549'"
      ],
      "text/markdown": [
       "'793549'"
      ],
      "text/plain": [
       "[1] \"793549\""
      ]
     },
     "metadata": {},
     "output_type": "display_data"
    }
   ],
   "source": [
    "runid"
   ]
  },
  {
   "cell_type": "code",
   "execution_count": 15,
   "id": "bb01c432-5339-49ab-b252-e3536d6feb27",
   "metadata": {},
   "outputs": [
    {
     "name": "stdout",
     "output_type": "stream",
     "text": [
      "Scanning file to determine attributes.\n",
      "File attributes:\n",
      "  meta lines: 5\n",
      "  header_line: 6\n",
      "  variant count: 48772\n",
      "  column count: 8509\n",
      "Meta line 5 read in.\n",
      "All meta lines processed.\n",
      "gt matrix initialized.\n",
      "Character matrix gt created.\n",
      "  Character matrix gt rows: 48772\n",
      "  Character matrix gt cols: 8509\n",
      "  skip: 0\n",
      "  nrows: 48772\n",
      "  row_num: 0\n",
      "Processed variant: 48772\n",
      "All variants processed\n"
     ]
    }
   ],
   "source": [
    "vcf_full <- read.vcfR('results/vcfs/vcf_w_neutral_mutid_793549.vcf')"
   ]
  },
  {
   "cell_type": "code",
   "execution_count": 16,
   "id": "5e90113a-85ec-464f-b8e2-5ef224c8448f",
   "metadata": {},
   "outputs": [
    {
     "data": {
      "text/html": [
       "<style>\n",
       ".list-inline {list-style: none; margin:0; padding: 0}\n",
       ".list-inline>li {display: inline-block}\n",
       ".list-inline>li:not(:last-child)::after {content: \"\\00b7\"; padding: 0 .5ex}\n",
       "</style>\n",
       "<ol class=list-inline><li>48772</li><li>8500</li></ol>\n"
      ],
      "text/latex": [
       "\\begin{enumerate*}\n",
       "\\item 48772\n",
       "\\item 8500\n",
       "\\end{enumerate*}\n"
      ],
      "text/markdown": [
       "1. 48772\n",
       "2. 8500\n",
       "\n",
       "\n"
      ],
      "text/plain": [
       "[1] 48772  8500"
      ]
     },
     "metadata": {},
     "output_type": "display_data"
    }
   ],
   "source": [
    "geno_full <- vcf_full@gt[,-1] \n",
    "dim(geno_full)\n",
    "position_full <- getPOS(vcf_full)\n",
    "rown <- vcf_full@fix[,\"ALT\"] # mutation ID"
   ]
  },
  {
   "cell_type": "code",
   "execution_count": null,
   "id": "094eebf8-f7d4-4de2-92a8-bbc648f05a37",
   "metadata": {},
   "outputs": [],
   "source": []
  },
  {
   "cell_type": "code",
   "execution_count": 18,
   "id": "5c11a5b1-435f-483f-876f-57a23783c31b",
   "metadata": {},
   "outputs": [
    {
     "data": {
      "text/html": [
       "<style>\n",
       ".list-inline {list-style: none; margin:0; padding: 0}\n",
       ".list-inline>li {display: inline-block}\n",
       ".list-inline>li:not(:last-child)::after {content: \"\\00b7\"; padding: 0 .5ex}\n",
       "</style>\n",
       "<ol class=list-inline><li>48772</li><li>8500</li></ol>\n"
      ],
      "text/latex": [
       "\\begin{enumerate*}\n",
       "\\item 48772\n",
       "\\item 8500\n",
       "\\end{enumerate*}\n"
      ],
      "text/markdown": [
       "1. 48772\n",
       "2. 8500\n",
       "\n",
       "\n"
      ],
      "text/plain": [
       "[1] 48772  8500"
      ]
     },
     "metadata": {},
     "output_type": "display_data"
    },
    {
     "data": {
      "text/html": [
       "<table class=\"dataframe\">\n",
       "<caption>A matrix: 6 × 5 of type chr</caption>\n",
       "<thead>\n",
       "\t<tr><th scope=col>tsk_0</th><th scope=col>tsk_1</th><th scope=col>tsk_2</th><th scope=col>tsk_3</th><th scope=col>tsk_4</th></tr>\n",
       "</thead>\n",
       "<tbody>\n",
       "\t<tr><td>0|0</td><td>0|0</td><td>0|0</td><td>0|0</td><td>0|0</td></tr>\n",
       "\t<tr><td>0|0</td><td>0|0</td><td>0|0</td><td>0|0</td><td>0|0</td></tr>\n",
       "\t<tr><td>0|0</td><td>0|0</td><td>0|0</td><td>0|0</td><td>0|0</td></tr>\n",
       "\t<tr><td>0|0</td><td>0|0</td><td>0|0</td><td>0|0</td><td>0|0</td></tr>\n",
       "\t<tr><td>0|0</td><td>0|0</td><td>0|0</td><td>0|0</td><td>0|0</td></tr>\n",
       "\t<tr><td>0|0</td><td>0|0</td><td>0|0</td><td>0|0</td><td>0|0</td></tr>\n",
       "</tbody>\n",
       "</table>\n"
      ],
      "text/latex": [
       "A matrix: 6 × 5 of type chr\n",
       "\\begin{tabular}{lllll}\n",
       " tsk\\_0 & tsk\\_1 & tsk\\_2 & tsk\\_3 & tsk\\_4\\\\\n",
       "\\hline\n",
       "\t 0\\textbar{}0 & 0\\textbar{}0 & 0\\textbar{}0 & 0\\textbar{}0 & 0\\textbar{}0\\\\\n",
       "\t 0\\textbar{}0 & 0\\textbar{}0 & 0\\textbar{}0 & 0\\textbar{}0 & 0\\textbar{}0\\\\\n",
       "\t 0\\textbar{}0 & 0\\textbar{}0 & 0\\textbar{}0 & 0\\textbar{}0 & 0\\textbar{}0\\\\\n",
       "\t 0\\textbar{}0 & 0\\textbar{}0 & 0\\textbar{}0 & 0\\textbar{}0 & 0\\textbar{}0\\\\\n",
       "\t 0\\textbar{}0 & 0\\textbar{}0 & 0\\textbar{}0 & 0\\textbar{}0 & 0\\textbar{}0\\\\\n",
       "\t 0\\textbar{}0 & 0\\textbar{}0 & 0\\textbar{}0 & 0\\textbar{}0 & 0\\textbar{}0\\\\\n",
       "\\end{tabular}\n"
      ],
      "text/markdown": [
       "\n",
       "A matrix: 6 × 5 of type chr\n",
       "\n",
       "| tsk_0 | tsk_1 | tsk_2 | tsk_3 | tsk_4 |\n",
       "|---|---|---|---|---|\n",
       "| 0|0 | 0|0 | 0|0 | 0|0 | 0|0 |\n",
       "| 0|0 | 0|0 | 0|0 | 0|0 | 0|0 |\n",
       "| 0|0 | 0|0 | 0|0 | 0|0 | 0|0 |\n",
       "| 0|0 | 0|0 | 0|0 | 0|0 | 0|0 |\n",
       "| 0|0 | 0|0 | 0|0 | 0|0 | 0|0 |\n",
       "| 0|0 | 0|0 | 0|0 | 0|0 | 0|0 |\n",
       "\n"
      ],
      "text/plain": [
       "     tsk_0 tsk_1 tsk_2 tsk_3 tsk_4\n",
       "[1,] 0|0   0|0   0|0   0|0   0|0  \n",
       "[2,] 0|0   0|0   0|0   0|0   0|0  \n",
       "[3,] 0|0   0|0   0|0   0|0   0|0  \n",
       "[4,] 0|0   0|0   0|0   0|0   0|0  \n",
       "[5,] 0|0   0|0   0|0   0|0   0|0  \n",
       "[6,] 0|0   0|0   0|0   0|0   0|0  "
      ]
     },
     "metadata": {},
     "output_type": "display_data"
    }
   ],
   "source": [
    "geno_full <- vcf_full@gt[,-1] \n",
    "dim(geno_full)\n",
    "position_full <- getPOS(vcf_full)\n",
    "rown <- vcf_full@fix[,\"ALT\"] # mutation ID\n",
    "# rown = 1 is a neutral mutation\n",
    "#causal_mut_locs <- which(rown %in% as.character(muts_df$mutID)) # causal mutations\n",
    "#position_full[causal_mut_locs] # positions of causal mutations\n",
    "\n",
    "\n",
    "head(geno_full[,1:5])\n",
    "\n",
    "\n",
    "G_full <- matrix(NA, nrow = nrow(geno_full), ncol = ncol(geno_full))\n",
    "G_full[geno_full %in% c(\"0/0\", \"0|0\")] <- 0\n",
    "G_full[geno_full  %in% c(\"0/1\", \"1/0\", \"1|0\", \"0|1\")] <- 1\n",
    "G_full[geno_full %in% c(\"1/1\", \"1|1\")] <- 2"
   ]
  },
  {
   "cell_type": "code",
   "execution_count": null,
   "id": "2d758a3b-6709-42bb-9937-3480fcbda7fd",
   "metadata": {},
   "outputs": [],
   "source": []
  },
  {
   "cell_type": "code",
   "execution_count": 19,
   "id": "a9d71e65-c5dc-46fb-baa4-1417a26a3e22",
   "metadata": {},
   "outputs": [
    {
     "ename": "ERROR",
     "evalue": "Error in which(indPhen_df$subset): object 'indPhen_df' not found\n",
     "output_type": "error",
     "traceback": [
      "Error in which(indPhen_df$subset): object 'indPhen_df' not found\nTraceback:\n",
      "1. which(indPhen_df$subset)"
     ]
    },
    {
     "data": {
      "image/png": "[encoded data removed]",
      "text/plain": [
       "Plot with title “Histogram of a_freq_full”"
      ]
     },
     "metadata": {
      "image/png": {
       "height": 420,
       "width": 420
      }
     },
     "output_type": "display_data"
    }
   ],
   "source": [
    "G_full <- matrix(NA, nrow = nrow(geno_full), ncol = ncol(geno_full))\n",
    "G_full[geno_full %in% c(\"0/0\", \"0|0\")] <- 0\n",
    "G_full[geno_full  %in% c(\"0/1\", \"1/0\", \"1|0\", \"0|1\")] <- 1\n",
    "G_full[geno_full %in% c(\"1/1\", \"1|1\")] <- 2\n",
    "\n",
    "\n",
    "\n",
    "#head(G_full[,1:5])\n",
    "\n",
    "a_freq_full <- rowSums(G_full)/(2*ncol(G_full))\n",
    "hist(a_freq_full, breaks=seq(0,1,0.01))\n",
    "\n",
    "if (!identical(sort(unique(unlist(as.numeric(G_full)))), as.numeric(0:2))){\n",
    "print(\"Error: full genotype matrix not uniquely 012\")\n",
    "break\n",
    "}\n",
    "\n",
    "\n",
    "G_full_subset <- G_full[,which(indPhen_df$subset)]"
   ]
  },
  {
   "cell_type": "code",
   "execution_count": null,
   "id": "8eed4035-a68c-415c-a242-c8b49c544b22",
   "metadata": {},
   "outputs": [],
   "source": [
    "G_full_subset"
   ]
  },
  {
   "cell_type": "code",
   "execution_count": null,
   "id": "93ff232a-23a6-44af-883b-b2f31cefe49e",
   "metadata": {},
   "outputs": [],
   "source": [
    "## outflank "
   ]
  },
  {
   "cell_type": "code",
   "execution_count": 27,
   "id": "31ce93f4-d1b4-423e-982f-27ac9c5cee28",
   "metadata": {},
   "outputs": [
    {
     "ename": "ERROR",
     "evalue": "Error in eval(expr, envir, enclos): object 'G_full_subset' not found\n",
     "output_type": "error",
     "traceback": [
      "Error in eval(expr, envir, enclos): object 'G_full_subset' not found\nTraceback:\n"
     ]
    }
   ],
   "source": [
    "class(G_full_subset)"
   ]
  },
  {
   "cell_type": "code",
   "execution_count": 29,
   "id": "1681b332-1ce0-47ae-b64d-661e4692acd5",
   "metadata": {},
   "outputs": [],
   "source": [
    "# Step 1: Determine the number of loci\n",
    "num_loci <- nrow(G_full)\n",
    "\n",
    "# Step 2: Create a list of locus names from 1 to num_loci\n",
    "locus_names <- as.character(1:num_loci)"
   ]
  },
  {
   "cell_type": "code",
   "execution_count": 31,
   "id": "75bcfeeb-96d5-4de5-8e54-40e0b708bf56",
   "metadata": {},
   "outputs": [],
   "source": [
    "# Step 1: Determine the number of loci\n",
    "num_pops <- ncol(G_full)\n",
    "\n",
    "# Step 2: Create a list of locus names from 1 to num_loci\n",
    "pop_names <- as.character(1:num_pops)"
   ]
  },
  {
   "cell_type": "code",
   "execution_count": 1,
   "id": "4018fb7d-b8d0-4b07-b73d-a4a56edd9266",
   "metadata": {},
   "outputs": [
    {
     "ename": "ERROR",
     "evalue": "Error in eval(expr, envir, enclos): object 'pop_names' not found\n",
     "output_type": "error",
     "traceback": [
      "Error in eval(expr, envir, enclos): object 'pop_names' not found\nTraceback:\n"
     ]
    }
   ],
   "source": [
    "pop_names"
   ]
  },
  {
   "cell_type": "code",
   "execution_count": null,
   "id": "0d40e757-55e4-45b1-bd06-cf3bda0688ce",
   "metadata": {},
   "outputs": [],
   "source": [
    "# FST Outflank ####\n",
    "fst <- MakeDiploidFSTMat(t(G_full), locusNames = locus_names, popNames = pop_names)\n",
    "# , locusNames = muts_full$mutname,  popNames = subset_indPhen_df$subpopID\n",
    "head(fst)"
   ]
  },
  {
   "cell_type": "code",
   "execution_count": null,
   "id": "3013e0f5-ffa6-484f-be99-0ddf51e8bfbf",
   "metadata": {},
   "outputs": [],
   "source": []
  },
  {
   "cell_type": "code",
   "execution_count": null,
   "id": "59d75a4b-cac1-4477-b5de-3060e71bfd5d",
   "metadata": {},
   "outputs": [],
   "source": []
  },
  {
   "cell_type": "code",
   "execution_count": null,
   "id": "b3fe572f-04f1-4d9e-b1d8-67971c6d5700",
   "metadata": {},
   "outputs": [],
   "source": [
    "\n",
    "if(!identical(as.character(fst$locusNames), as.character(rownames(muts_full$mutname)))){print(\"Error 1h: mutations not lined up\");break()}\n",
    "\n",
    "if(!identical(as.character(muts_full$mutname), as.character(rownames(G_full_subset)))){print(\"Error 1g: mutations not lined up\");break()}\n",
    "\n",
    "\n",
    "muts_full$He_outflank <- fst$He\n",
    "muts_full$Fst_outflank <- fst$FST\n",
    "meanFst <- mean(fst$T1)/mean(fst$T2)\n",
    "\n",
    "# FST manhattan ###\n",
    "\n",
    "pdf(paste0(path,seed,\"_pdf_8manhattan_fst.pdf\"), width=15, height=5)"
   ]
  }
 ],
 "metadata": {
  "kernelspec": {
   "display_name": "R",
   "language": "R",
   "name": "ir"
  },
  "language_info": {
   "codemirror_mode": "r",
   "file_extension": ".r",
   "mimetype": "text/x-r-source",
   "name": "R",
   "pygments_lexer": "r",
   "version": "4.2.3"
  }
 },
 "nbformat": 4,
 "nbformat_minor": 5
}
